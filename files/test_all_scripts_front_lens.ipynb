{
 "cells": [
  {
   "cell_type": "code",
   "execution_count": 1,
   "metadata": {},
   "outputs": [],
   "source": [
    "import h5py\n",
    "import numpy as np\n",
    "import pandas as pd\n",
    "\n",
    "from parse_pa_and_fly_script import process_fly\n",
    "\n",
    "from flymaker_script import write_flyfile\n",
    "from flymaker_script import get_param_list\n",
    "\n",
    "from SIMION_run_microscope import run_microscope\n",
    "from parse_results import move_to_h5\n",
    "from parse_results import parse_results"
   ]
  },
  {
   "cell_type": "markdown",
   "metadata": {},
   "source": [
    "1. Generate lists of parameters\n",
    "2. write different fly files\n",
    "3. Run the simulation \n",
    "4. Save the simulation to h5 before running a new simulation"
   ]
  },
  {
   "cell_type": "code",
   "execution_count": 2,
   "metadata": {},
   "outputs": [],
   "source": [
    "# Generate list of parameters: vary KE\n",
    "ke_values = [300, 350] #, 400, 450, 500, 550, 600, 650, 700, 750, 800, 850, 900, 950, 1000]\n",
    "\n",
    "tob = ['',0]\n",
    "ke = ['guassian', ke_values, 5]\n",
    "azm = ['',0]\n",
    "el = ['arithmetic sequence', 30, -2, 31]\n",
    "direction = [azm , el]"
   ]
  },
  {
   "cell_type": "code",
   "execution_count": 3,
   "metadata": {},
   "outputs": [],
   "source": [
    "# Setting some y spread.\n",
    "source_y_pos = [-0.2, -0.1, 0, 0.1, 0.2]\n",
    "source_position = ['single vector',20.001, source_y_pos, 0]"
   ]
  },
  {
   "cell_type": "code",
   "execution_count": 4,
   "metadata": {},
   "outputs": [
    {
     "name": "stdout",
     "output_type": "stream",
     "text": [
      "[[['', 0], 0.0005485799, -1, ['guassian', 300, 5], [['', 0], ['arithmetic sequence', 30, -2, 31]], ['single vector', 20.001, 0.2, 0]], [['', 0], 0.0005485799, -1, ['guassian', 300, 5], [['', 0], ['arithmetic sequence', 30, -2, 31]], ['single vector', 20.001, 0.2, 0]], [['', 0], 0.0005485799, -1, ['guassian', 300, 5], [['', 0], ['arithmetic sequence', 30, -2, 31]], ['single vector', 20.001, 0.2, 0]], [['', 0], 0.0005485799, -1, ['guassian', 300, 5], [['', 0], ['arithmetic sequence', 30, -2, 31]], ['single vector', 20.001, 0.2, 0]], [['', 0], 0.0005485799, -1, ['guassian', 300, 5], [['', 0], ['arithmetic sequence', 30, -2, 31]], ['single vector', 20.001, 0.2, 0]]]\n",
      "[[['', 0], 0.0005485799, -1, ['guassian', 350, 5], [['', 0], ['arithmetic sequence', 30, -2, 31]], ['single vector', 20.001, 0.2, 0]], [['', 0], 0.0005485799, -1, ['guassian', 350, 5], [['', 0], ['arithmetic sequence', 30, -2, 31]], ['single vector', 20.001, 0.2, 0]], [['', 0], 0.0005485799, -1, ['guassian', 350, 5], [['', 0], ['arithmetic sequence', 30, -2, 31]], ['single vector', 20.001, 0.2, 0]], [['', 0], 0.0005485799, -1, ['guassian', 350, 5], [['', 0], ['arithmetic sequence', 30, -2, 31]], ['single vector', 20.001, 0.2, 0]], [['', 0], 0.0005485799, -1, ['guassian', 350, 5], [['', 0], ['arithmetic sequence', 30, -2, 31]], ['single vector', 20.001, 0.2, 0]]]\n"
     ]
    }
   ],
   "source": [
    "# writes a fly file for every KE\n",
    "for value in ke_values:\n",
    "    ke[1] = value\n",
    "    file_str = []\n",
    "    for y in source_y_pos:\n",
    "        source_position[2] = y\n",
    "        \n",
    "        file_str.append(get_param_list(tob, ke, direction, source_position))\n",
    "          \n",
    "    print(file_str)\n",
    "     \n"
   ]
  },
  {
   "cell_type": "code",
   "execution_count": 5,
   "metadata": {},
   "outputs": [],
   "source": [
    "# Varying voltages\n",
    "voltages = [[0,0,0,0],[0, 2000, 18000, 4000], [0, 5000, 18000, 2000]]"
   ]
  },
  {
   "cell_type": "code",
   "execution_count": 8,
   "metadata": {},
   "outputs": [
    {
     "name": "stdout",
     "output_type": "stream",
     "text": [
      "0_0_0_0\n",
      "Dataset added.\n",
      "0_0_0_0\n",
      "Dataset added.\n",
      "0_2000_18000_4000\n",
      "Dataset added.\n",
      "0_2000_18000_4000\n",
      "Dataset added.\n",
      "0_5000_18000_2000\n",
      "Dataset added.\n",
      "0_5000_18000_2000\n",
      "Dataset added.\n"
     ]
    }
   ],
   "source": [
    "for v in voltages: # Each set of voltages is a new simulation\n",
    "    #print(v)\n",
    "    for value in ke_values: # Each value of KE is a new simulation\n",
    "        ke[1] = value\n",
    "        file_str = []\n",
    "        #print(ke)\n",
    "        for y in source_y_pos: # Use a spread of y source coordinates\n",
    "            source_position[2] = y\n",
    "            file_str.append(get_param_list(tob, ke, direction, source_position))\n",
    "        \n",
    "        \n",
    "        write_flyfile(file_name = 'C:\\\\Users\\\\carina\\\\SULI2024\\\\SIMION_files_2024\\\\front_lens.fly2', param_list = file_str)\n",
    "        run_microscope(v)\n",
    "        \n",
    "        try:\n",
    "            move_to_h5(h5 = 'C:\\\\Users\\\\carina\\\\SULI2024\\\\test\\\\SIMIONdb_h5', fly_file = 'C:\\\\Users\\\\carina\\\\SULI2024\\\\SIMION_files_2024\\\\front_lens.fly2' , v = v, ke_values = value)\n",
    "            #print(v)\n",
    "            #print(value)\n",
    "            \n",
    "        except Exception as inst:\n",
    "            print(inst)"
   ]
  },
  {
   "cell_type": "code",
   "execution_count": 7,
   "metadata": {},
   "outputs": [],
   "source": [
    "# Delete existing datasets. Datasets cannot be overwritten or have duplicate names, execution order matters.\n",
    "with h5py.File(\"C:\\\\Users\\\\carina\\\\SULI2024\\\\test\\\\SIMIONdb_h5\", \"w\") as f:\n",
    "    for item in f.keys():\n",
    "        #del f[item]\n",
    "        print(item)\n"
   ]
  },
  {
   "cell_type": "code",
   "execution_count": 9,
   "metadata": {},
   "outputs": [
    {
     "name": "stdout",
     "output_type": "stream",
     "text": [
      "v_0_0_0_0_ke300_20240721_235702\n",
      "v_0_0_0_0_ke350_20240721_235702\n",
      "v_0_2000_18000_4000_ke300_20240721_235702\n",
      "v_0_2000_18000_4000_ke350_20240721_235702\n",
      "v_0_5000_18000_2000_ke300_20240721_235702\n",
      "v_0_5000_18000_2000_ke350_20240721_235702\n"
     ]
    }
   ],
   "source": [
    "# Check keys\n",
    "with h5py.File(\"C:\\\\Users\\\\carina\\\\SULI2024\\\\test\\\\SIMIONdb_h5\", \"r\") as f:\n",
    "    for item in f.keys():\n",
    "        print(item)"
   ]
  },
  {
   "cell_type": "code",
   "execution_count": 15,
   "metadata": {},
   "outputs": [
    {
     "name": "stdout",
     "output_type": "stream",
     "text": [
      "<KeysViewHDF5 ['1az', '1charge', '1color', '1cwf', '1el_first', '1el_n', '1el_step', '1mass', '1n', '1position', '1tob', '2az', '2charge', '2color', '2cwf', '2el_first', '2el_n', '2el_step', '2mass', '2n', '2position', '2tob', '3az', '3charge', '3color', '3cwf', '3el_first', '3el_n', '3el_step', '3mass', '3n', '3position', '3tob', '4az', '4charge', '4color', '4cwf', '4el_first', '4el_n', '4el_step', '4mass', '4n', '4position', '4tob', '5az', '5charge', '5color', '5cwf', '5el_first', '5el_n', '5el_step', '5mass', '5n', '5position', '5tob']>\n",
      "[[ 1.00000e+00  1.00000e+00  0.00000e+00  5.48580e-04 -1.00000e+00\n",
      "   2.00010e+01  2.00000e-01  0.00000e+00  1.87554e+02  0.00000e+00\n",
      "   3.00000e+01  7.43558e-13  1.00000e+00]\n",
      " [ 1.00000e+00  3.00000e+00  4.92525e-01  5.48580e-04 -1.00000e+00\n",
      "   1.00000e+02  4.63874e+01  0.00000e+00  1.87554e+02 -0.00000e+00\n",
      "   3.00000e+01  7.43561e-13  1.00000e+00]\n",
      " [ 2.00000e+00  1.00000e+00  0.00000e+00  5.48580e-04 -1.00000e+00\n",
      "   2.00010e+01  2.00000e-01  0.00000e+00  1.87554e+02  0.00000e+00\n",
      "   2.80000e+01  7.43558e-13  1.00000e+00]\n",
      " [ 2.00000e+00  3.00000e+00  4.95163e-01  5.48580e-04 -1.00000e+00\n",
      "   1.02000e+02  4.37996e+01  0.00000e+00  1.87554e+02 -0.00000e+00\n",
      "   2.80000e+01  7.43562e-13  1.00000e+00]\n",
      " [ 3.00000e+00  1.00000e+00  0.00000e+00  5.48580e-04 -1.00000e+00\n",
      "   2.00010e+01  2.00000e-01  0.00000e+00  1.87554e+02  0.00000e+00\n",
      "   2.60000e+01  7.43558e-13  1.00000e+00]\n",
      " [ 3.00000e+00  3.00000e+00  4.98297e-01  5.48580e-04 -1.00000e+00\n",
      "   1.04000e+02  4.11690e+01  0.00000e+00  1.87554e+02 -0.00000e+00\n",
      "   2.60000e+01  7.81187e-13  1.00000e+00]]\n"
     ]
    }
   ],
   "source": [
    "with h5py.File(\"C:\\\\Users\\\\carina\\\\SULI2024\\\\test\\\\SIMIONdb_h5\", \"r\") as f:   \n",
    "   \n",
    "   # Retrieving the dataset\n",
    "   sample_dataset = f['v_0_0_0_0_ke300_20240721_235702']\n",
    "   \n",
    "   # Check dataset attribute. Fly information is added as attributes to the corresponding dataset\n",
    "   print(sample_dataset.attrs.keys()) \n",
    "\n",
    "   # Check dataset content. Returns one dataframe as a list of lists with the index matching the keys as they appear in run_results.\n",
    "   print(sample_dataset[0:6])\n",
    "   "
   ]
  },
  {
   "cell_type": "code",
   "execution_count": null,
   "metadata": {},
   "outputs": [],
   "source": []
  }
 ],
 "metadata": {
  "kernelspec": {
   "display_name": "Python 3",
   "language": "python",
   "name": "python3"
  },
  "language_info": {
   "codemirror_mode": {
    "name": "ipython",
    "version": 3
   },
   "file_extension": ".py",
   "mimetype": "text/x-python",
   "name": "python",
   "nbconvert_exporter": "python",
   "pygments_lexer": "ipython3",
   "version": "3.12.4"
  }
 },
 "nbformat": 4,
 "nbformat_minor": 2
}
