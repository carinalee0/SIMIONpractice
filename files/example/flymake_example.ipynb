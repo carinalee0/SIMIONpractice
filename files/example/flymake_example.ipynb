{
 "cells": [
  {
   "cell_type": "code",
   "execution_count": 1,
   "metadata": {},
   "outputs": [],
   "source": [
    "from flymaker_script import generate_all_strings\n",
    "from flymaker_script import write_fly_file\n",
    "from flymaker_script import set_azm"
   ]
  },
  {
   "cell_type": "code",
   "execution_count": 5,
   "metadata": {},
   "outputs": [],
   "source": [
    "workbench_name = 'front_len'"
   ]
  },
  {
   "cell_type": "code",
   "execution_count": 8,
   "metadata": {},
   "outputs": [
    {
     "name": "stdout",
     "output_type": "stream",
     "text": [
      "['     tob = 0', '     ke = gaussian_distribution { \\n      mean = 300, \\n      fwhm = 5\\n     },', '     az = 0,\\n    el = 30,', '     position = vector(20.001, 0, 0)']\n"
     ]
    }
   ],
   "source": [
    "mass = 0.000548579903\n",
    "charge = -1\n",
    "tob = ['', 0]\n",
    "ke = ['gaussian distribution', 300, 5]\n",
    "elv = ['', 30]\n",
    "azm = ['a', 0]\n",
    "direction = [azm, elv]\n",
    "source_position = ['single vector', 20.001, 0,0]\n",
    "\n",
    "particle_params = generate_all_strings(tob_list = tob, direction_list = direction, ke_list = ke, source_position_list = source_position)\n",
    "print(particle_params)"
   ]
  },
  {
   "cell_type": "code",
   "execution_count": 9,
   "metadata": {},
   "outputs": [],
   "source": [
    "write_fly_file(workbench_name = workbench_name, mass = mass, charge = charge, particle_params = particle_params )"
   ]
  },
  {
   "cell_type": "code",
   "execution_count": null,
   "metadata": {},
   "outputs": [],
   "source": []
  }
 ],
 "metadata": {
  "kernelspec": {
   "display_name": "Python 3",
   "language": "python",
   "name": "python3"
  },
  "language_info": {
   "codemirror_mode": {
    "name": "ipython",
    "version": 3
   },
   "file_extension": ".py",
   "mimetype": "text/x-python",
   "name": "python",
   "nbconvert_exporter": "python",
   "pygments_lexer": "ipython3",
   "version": "3.12.4"
  }
 },
 "nbformat": 4,
 "nbformat_minor": 2
}
