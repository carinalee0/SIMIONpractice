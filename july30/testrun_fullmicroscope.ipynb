{
 "cells": [
  {
   "cell_type": "code",
   "execution_count": null,
   "metadata": {},
   "outputs": [],
   "source": [
    "import h5py\n",
    "import numpy as np\n",
    "import pandas as pd\n",
    "\n",
    "from parse_pa_and_fly_script import process_fly\n",
    "\n",
    "\n",
    "\n",
    "\n",
    "from flymaker_script import write_flyfile\n",
    "from flymaker_script import get_param_list\n",
    "\n",
    "from SIMION_run_full_microscope import run_microscope\n",
    "from parse_results import move_to_h5\n",
    "from parse_results import dataset_to_df"
   ]
  },
  {
   "cell_type": "code",
   "execution_count": null,
   "metadata": {},
   "outputs": [],
   "source": [
    "fly_file = \"C:\\\\Users\\\\carina\\\\SULI2024\\\\SIMION_files_2024\\\\full_microscope.fly2\"\n",
    "db_file = \"C:\\\\Users\\\\carina\\\\SULI2024\\\\test\\\\SIMIONdb\""
   ]
  },
  {
   "cell_type": "markdown",
   "metadata": {},
   "source": [
    "Running the simulations\n"
   ]
  },
  {
   "cell_type": "code",
   "execution_count": null,
   "metadata": {},
   "outputs": [],
   "source": [
    "# Generate list of parameters: vary KE\n",
    "ke_values = [300] #, 350, 400, 450, 500, 550, 600, 650, 700, 750, 800, 850, 900, 950, 1000]\n",
    "\n",
    "tob = ['',0]\n",
    "ke = ['gaussian', ke_values, 5]\n",
    "azm = ['',0]\n",
    "el = ['arithmetic sequence', 30, -2, 31]\n",
    "direction = [azm , el]\n",
    "\n",
    "# Setting some y spread.\n",
    "source_y_pos = [-0.2, -0.1, 0, 0.1, 0.2]\n",
    "source_position = ['single vector',20.001, source_y_pos, 0]"
   ]
  },
  {
   "cell_type": "code",
   "execution_count": null,
   "metadata": {},
   "outputs": [],
   "source": [
    "# writes a fly file for every KE\n",
    "for value in ke_values:\n",
    "    ke[1] = value\n",
    "    file_str = []\n",
    "    for y in source_y_pos:\n",
    "        source_position[2] = y\n",
    "        \n",
    "        file_str.append(get_param_list(tob, ke, direction, source_position))\n",
    "          \n",
    "    #print(file_str)"
   ]
  },
  {
   "cell_type": "code",
   "execution_count": 9,
   "metadata": {},
   "outputs": [
    {
     "name": "stdout",
     "output_type": "stream",
     "text": [
      "2\n"
     ]
    }
   ],
   "source": [
    "# Varying voltages\n",
    "#v3_values = list(np.arange(start = 10000, step= 100, stop=26100)) # Includes start, does not include stop\n",
    "v3_values = [14000,18000]\n",
    "print(len(v3_values))\n",
    "voltages = [0,2500,v3_values,2000,2500,5000,1100,338,2225,10,10,195,92,30,47]"
   ]
  },
  {
   "cell_type": "code",
   "execution_count": 17,
   "metadata": {},
   "outputs": [
    {
     "name": "stdout",
     "output_type": "stream",
     "text": [
      "6\n",
      "element: ['', 0]\n",
      "element: 0.0005485799\n",
      "element: -1\n",
      "element: ['gaussian', 300, 5]\n",
      "element: [['', 0], ['arithmetic sequence', 30, -2, 31]]\n",
      "element: ['single vector', 20.001, 0.2, 0]\n",
      "6\n",
      "element: ['', 0]\n",
      "element: 0.0005485799\n",
      "element: -1\n",
      "element: ['gaussian', 300, 5]\n",
      "element: [['', 0], ['arithmetic sequence', 30, -2, 31]]\n",
      "element: ['single vector', 20.001, 0.2, 0]\n"
     ]
    }
   ],
   "source": [
    "for v3 in v3_values: # Each value of v3 is a new simulation. (Each set of voltages is a new simulation)\n",
    "    voltages[2] = v3\n",
    "    #print(voltages)\n",
    "    \n",
    "    for value in ke_values: # Each value of KE is a new simulation\n",
    "        ke[1] = value\n",
    "        file_str = []\n",
    "      \n",
    "        #print(ke)\n",
    "        \n",
    "        for y in source_y_pos: # Use a spread of y source coordinates\n",
    "            source_position[2] = y\n",
    "            file_str.append(get_param_list(tob, ke, direction, source_position))\n",
    "            #print(get_param_list(tob, ke, direction, source_position))\n",
    "        \n",
    "        write_flyfile(file_name = fly_file, param_list = file_str)\n",
    "        run_microscope(voltages)\n",
    "        \n",
    "        try:\n",
    "            move_to_h5(h5 = db_file, fly_file = fly_file , v = voltages, ke_values = value, varying_electrode_id = 3)\n",
    "            \n",
    "        except Exception as inst:\n",
    "            print(inst)"
   ]
  },
  {
   "cell_type": "code",
   "execution_count": null,
   "metadata": {},
   "outputs": [],
   "source": [
    "# Delete existing datasets. Datasets cannot be overwritten or have duplicate names, execution order matters.\n",
    "with h5py.File(db_file, \"w\") as f:\n",
    "    for item in f.keys():\n",
    "        del item\n",
    "        \n",
    "        for subitem in f[item].keys():\n",
    "            del subitem"
   ]
  },
  {
   "cell_type": "code",
   "execution_count": null,
   "metadata": {},
   "outputs": [],
   "source": [
    "# Check keys\n",
    "with h5py.File(db_file, \"r\") as f:\n",
    "    for item in f.keys():\n",
    "        print(f'group: {item}')\n",
    "    \n",
    "        for subitem in f[item].keys():\n",
    "            print(subitem)\n",
    "    "
   ]
  },
  {
   "cell_type": "code",
   "execution_count": null,
   "metadata": {},
   "outputs": [],
   "source": [
    "# Confirming the contents of the dataset:\n",
    "with h5py.File(db_file, \"r\") as f:   \n",
    "   \n",
    "   # Retrieving the dataset\n",
    "   dataset_name = 'v_0_2500_18000_2000_2500_5000_1100_338_2225_10_10_195_92_30_47_ke30_20240724_15020'\n",
    "   sample_dataset = f['varying_v3'][dataset_name]\n",
    "   \n",
    "   # Check dataset attribute. Fly information is added as attributes to the corresponding dataset\n",
    "   print(sample_dataset.attrs.keys()) \n",
    "\n",
    "   # Check dataset content. Returns one dataframe as a list of lists with the index matching the keys as they appear in run_results.\n",
    "   #print(sample_dataset[0:6])\n",
    "   \n",
    "   # Dataset contents can be converted into a dataframe, but columns are unlabeled.\n",
    "   sample_dataset_df = dataset_to_df(db_file,dataset_name)\n",
    "   print(sample_dataset_df.head())\n",
    "   \n",
    "   "
   ]
  },
  {
   "cell_type": "code",
   "execution_count": null,
   "metadata": {},
   "outputs": [],
   "source": [
    "voltages = [0,2500,14000,2000,2500,5000,1100,338,2225,10,10,195,92,30,47]\n",
    "ke_values = [300] #, 350, 400, 450, 500, 550, 600, 650, 700, 750, 800, 850, 900, 950, 1000]\n",
    "\n",
    "tob = ['',0]\n",
    "ke = ['gaussian', ke_values, 5]\n",
    "azm = ['',0]\n",
    "el = ['arithmetic sequence', 30, -2, 31]\n",
    "direction = [azm , el]\n",
    "\n",
    "# Setting some y spread.\n",
    "source_y_pos = [-0.2, -0.1, 0, 0.1, 0.2]\n",
    "source_position = ['single vector',20.001, source_y_pos, 0]\n",
    "\n",
    "write_flyfile(file_name = fly_file, param_list = file_str)\n",
    "run_microscope(voltages)\n",
    "        \n",
    "try:\n",
    "    move_to_h5(h5 = db_file, fly_file = fly_file , v = voltages, ke_values = 30, varying_electrode_id = 3)\n",
    "            \n",
    "except Exception as inst:\n",
    "    print(inst)\n",
    "\n",
    "\n"
   ]
  },
  {
   "cell_type": "code",
   "execution_count": null,
   "metadata": {},
   "outputs": [],
   "source": [
    "with h5py.File(db_file, 'r') as f:\n",
    "    det_subset = []\n",
    "    grp = f['varying_v3']\n",
    "    #for item in grp:\n",
    "        #print(item)\n",
    "    dataset = grp['v_0_2500_10800_2000_2500_5000_1100_338_2225_10_10_195_92_30_47_ke300_20240724_150207']\n",
    "    for items in dataset:\n",
    "        if items[5] > 10000:\n",
    "            det_subset.append(items[5])\n",
    "    \n",
    "    print(len(det_subset))"
   ]
  },
  {
   "cell_type": "code",
   "execution_count": null,
   "metadata": {},
   "outputs": [],
   "source": [
    "import re"
   ]
  },
  {
   "cell_type": "code",
   "execution_count": null,
   "metadata": {},
   "outputs": [],
   "source": [
    "\n",
    "def digit_check(str):\n",
    "\n",
    "    if '-' in str:\n",
    "        str = str.replace('-','')\n",
    "        \n",
    "    if '.' in str:\n",
    "        str = str.replace('.','')\n",
    "    \n",
    "    if 'e' in str:\n",
    "        str = str.replace('e','')\n",
    "\n",
    "    return str.isdigit()\n",
    "\n",
    "event_dict = {\n",
    "    \"Ion Created\" : 1,\n",
    "    \"Crossed Y = 0 Plane\" : 2,\n",
    "    \"Hit Electrode\" : 3,\n",
    "    \"Outside Work Bench\" : 4\n",
    "    }"
   ]
  },
  {
   "cell_type": "code",
   "execution_count": null,
   "metadata": {},
   "outputs": [],
   "source": [
    "def parse_results(results = \"C:\\\\Users\\\\carina\\\\SULI2024\\\\SIMION_files_2024\\\\run_results.csv\"):\n",
    "    with open(results, 'r') as file:\n",
    "        results_lines = file.readlines()\n",
    "        \n",
    "        flym_counter = 0\n",
    "        start_parse = False\n",
    "        data_dict = {}\n",
    "        data_list = []\n",
    "        datasets_list = []\n",
    "\n",
    "        for row in results_lines:  \n",
    "        \n",
    "         if \"Begin Fly'm\" in row: # Begin Fly'm occurs for each simulation\n",
    "            flym_counter +=1\n",
    "                \n",
    "         if 'Ion(' in row:\n",
    "            start_parse = True\n",
    "            if data_dict: # If the dictionary is not empty, dump it into the list\n",
    "                data_list.append(data_dict)\n",
    "                data_dict = {} # Reinitialize dictionary\n",
    "         \n",
    "         if start_parse:\n",
    "            matches = re.findall('(.*?)\\\\((.*?)\\\\)', row) # Regex match\n",
    "            key = []\n",
    "            value = []\n",
    "            for match in matches:\n",
    "                key = match[0].strip()\n",
    "                value = match[1].strip()\n",
    "                \n",
    "                #print(value)\n",
    "                \n",
    "                \n",
    "                \n",
    "                value_list = value.split(' ') # split value by space\n",
    "                \n",
    "               # print(value_list)\n",
    "                \n",
    "                if len(value_list) >= 2 and digit_check(value_list[0]):\n",
    "                    value = float(value_list[0])\n",
    "                    unit = value_list[1]\n",
    "                    key = f'{key}_{unit}' \n",
    "\n",
    "                value = value if key != \"Event\" else event_dict[value] # change Event to numeric value\n",
    "                data_dict[key] = float(value)\n",
    "                \n",
    "                #print(data_dict)\n",
    "                \n",
    "         else:\n",
    "            start_parse = False \n",
    "         \n",
    "        # In case multiple simulations are appended to one results file, a list of datasets are created\n",
    "        if flym_counter >= 0:\n",
    "            datasets_list.append(data_list)\n",
    "            #data_list = [] / commented out on 7/24 to debug for the fact that we only see 5 particles at the detector\n",
    "    print(data_list)\n",
    "    \n",
    "   \n",
    "    # Will typically be a list of one (one simulation at a time)\n",
    "    df_list = []\n",
    "    for dataset in datasets_list:\n",
    "        df = pd.DataFrame(dataset)\n",
    "        df['Dataset_name'] = float(flym_counter)\n",
    "        print(df.head())\n",
    "        df_list.append(df)\n",
    "\n",
    "    return df_list\n"
   ]
  },
  {
   "cell_type": "code",
   "execution_count": null,
   "metadata": {},
   "outputs": [],
   "source": [
    "df_list = parse_results()\n",
    "df = df_list[0]\n",
    "det_data = df[df['X_mm'] > 10000]\n",
    "det_data"
   ]
  },
  {
   "cell_type": "markdown",
   "metadata": {},
   "source": [
    "Data processing"
   ]
  },
  {
   "cell_type": "code",
   "execution_count": null,
   "metadata": {},
   "outputs": [],
   "source": [
    "from matplotlib import pyplot as plt\n",
    "import seaborn as sns"
   ]
  },
  {
   "cell_type": "code",
   "execution_count": null,
   "metadata": {},
   "outputs": [],
   "source": [
    "sns.set_theme('notebook')"
   ]
  },
  {
   "cell_type": "code",
   "execution_count": null,
   "metadata": {},
   "outputs": [],
   "source": [
    "# Process all datasets to df\n",
    "with h5py.File(db_file, 'r') as f:\n",
    "    dataset_df_list = []\n",
    "    \n",
    "    # For every group,\n",
    "    for item in f.keys():\n",
    "        print(item)\n",
    "        \n",
    "        counter = -1\n",
    "        # For every dataset in the group, convert dataset to a df and append it to a list\n",
    "        for subitem in f[item]:\n",
    "            counter += 1\n",
    "            df = dataset_to_df(h5 = db_file, group_name = item, dataset_name = subitem) \n",
    "            df['v3_eV'] = v3_values[counter]\n",
    "            dataset_df_list.append(df)\n",
    "        \n",
    "    print(len(dataset_df_list))\n",
    "    #print(dataset_df_list[0])\n",
    "    "
   ]
  },
  {
   "cell_type": "code",
   "execution_count": null,
   "metadata": {},
   "outputs": [],
   "source": [
    "# Plot 1:  Y pos vs v3\n",
    "\n",
    "# Merge datasets into one big df\n",
    "all_v3_df = pd.concat(dataset_df_list)\n",
    "all_v3_df[0:400]\n"
   ]
  },
  {
   "cell_type": "code",
   "execution_count": null,
   "metadata": {},
   "outputs": [],
   "source": [
    "#pd.DataFrame({'Y_mm': [0,60]}).to_numpy()\n",
    "\n",
    "pd.DataFrame({\"Y_mm\": [1, 2], \"TOF_usec\": [3, 4]}).to_numpy()"
   ]
  },
  {
   "cell_type": "code",
   "execution_count": null,
   "metadata": {},
   "outputs": [],
   "source": [
    "y_arr[20000:21000]"
   ]
  },
  {
   "cell_type": "code",
   "execution_count": null,
   "metadata": {},
   "outputs": [],
   "source": [
    "y_arr = all_v3_df['Y_mm'].to_numpy()\n",
    "x_arr = all_v3_df['X_mm'].to_numpy()\n",
    "x_filter = []\n",
    "keep = False\n",
    "for element in x_arr:\n",
    "    if element > 9000:\n",
    "        keep = True\n",
    "    else:\n",
    "        keep = False\n",
    "    \n",
    "    x_filter.append(keep)\n",
    "        \n",
    "\n",
    "print(len(x_filter))     \n",
    "\n",
    "filter_count = []\n",
    "for element in x_filter:\n",
    "    if element == True:\n",
    "        filter_count.append(element) \n",
    "        \n",
    "print(len(filter_count))\n",
    "\n",
    "\"\"\"\n",
    "x_filters = [9999,15000]\n",
    "filt_lon = np.logical_and.reduce([lon, filt])\n",
    "filt_lon = np.logical_and.reduce([filt_lon, data>value[0], data<value[1]]) (e\n",
    "\"\"\"\n",
    "\n",
    "def filter_mask(arr, cond):\n",
    "    return arr[cond(arr)]\n",
    "\n",
    "\n",
    "#v3_arr = all_v3_df['v3_eV'].to_numpy() \n",
    "#plt.scatter(v3_arr, y_arr, marker ='.')"
   ]
  },
  {
   "cell_type": "code",
   "execution_count": null,
   "metadata": {},
   "outputs": [],
   "source": [
    "sns.scatterplot(data = all_v3_df, x = 'v3_eV', y = 'Y_mm')\n",
    "plt.xlim(17000,18000)\n"
   ]
  },
  {
   "cell_type": "code",
   "execution_count": null,
   "metadata": {},
   "outputs": [],
   "source": [
    "detector_v3_df"
   ]
  },
  {
   "cell_type": "code",
   "execution_count": null,
   "metadata": {},
   "outputs": [],
   "source": [
    "detector_v3_df = all_v3_df[all_v3_df['X_mm'] > 9000]\n",
    "print(detector_v3_df.head())\n",
    "\n",
    "sns.scatterplot(data = detector_v3_df, x = 'v3_eV', y = 'Y_mm', hue = 'v3_eV')\n",
    "#plt.xticks(v3_values)\n",
    "plt.xlim(17000,18000)\n",
    "plt.ylim(-130,130)\n",
    "plt.title('Detector data: Y position vs. Extractor voltage')"
   ]
  },
  {
   "cell_type": "code",
   "execution_count": null,
   "metadata": {},
   "outputs": [],
   "source": [
    "y130df = all_v3_df[all_v3_df['Y_mm'] > 130]\n",
    "y130df.describe()"
   ]
  },
  {
   "cell_type": "code",
   "execution_count": null,
   "metadata": {},
   "outputs": [],
   "source": [
    "y_arr = detector_v3_df['Y_mm'].to_numpy()\n",
    "v3_arr = detector_v3_df['v3_eV'].to_numpy() \n",
    "plt.scatter(v3_arr, y_arr, marker ='.', alpha = 0.2)\n",
    "plt.xlim(10000,11000)"
   ]
  },
  {
   "cell_type": "markdown",
   "metadata": {},
   "source": []
  },
  {
   "cell_type": "code",
   "execution_count": null,
   "metadata": {},
   "outputs": [],
   "source": [
    "# Plot 2: Collected particles vs. v3\n",
    "sns.histplot (data = detector_v3_df, x = 'v3_eV', bins = 161, kde =True ) # change the bins\n",
    "#plt.ylim(4.5, 5.05)\n",
    "plt.title('Collected particles vs. Extractor Voltage')\n",
    "plt.show()"
   ]
  },
  {
   "cell_type": "code",
   "execution_count": null,
   "metadata": {},
   "outputs": [],
   "source": []
  }
 ],
 "metadata": {
  "kernelspec": {
   "display_name": "Python 3",
   "language": "python",
   "name": "python3"
  },
  "language_info": {
   "codemirror_mode": {
    "name": "ipython",
    "version": 3
   },
   "file_extension": ".py",
   "mimetype": "text/x-python",
   "name": "python",
   "nbconvert_exporter": "python",
   "pygments_lexer": "ipython3",
   "version": "3.12.4"
  }
 },
 "nbformat": 4,
 "nbformat_minor": 2
}
