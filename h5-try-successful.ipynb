{
 "cells": [
  {
   "cell_type": "code",
   "execution_count": 1,
   "metadata": {},
   "outputs": [],
   "source": [
    "import h5py\n",
    "import numpy as np\n",
    "import pandas as pd"
   ]
  },
  {
   "cell_type": "markdown",
   "metadata": {},
   "source": [
    "Changing execution order: Try prepping all the data first, then the h5 steps at the end\n",
    "1) prep data\n",
    "2) create file\n",
    "3) create group\n",
    "4) create datasets in group\n",
    "5) assign attributes for pa data\n",
    "6) close h5 file"
   ]
  },
  {
   "cell_type": "markdown",
   "metadata": {},
   "source": [
    "1)"
   ]
  },
  {
   "cell_type": "code",
   "execution_count": 2,
   "metadata": {},
   "outputs": [],
   "source": [
    "trajectory_df = pd.read_csv ('example-solution-trajectories.csv', skiprows=10)\n",
    "traj_data = trajectory_df.to_numpy()"
   ]
  },
  {
   "cell_type": "code",
   "execution_count": 3,
   "metadata": {},
   "outputs": [],
   "source": [
    "potential_array_df= pd.read_csv ('test5.patxt', skiprows= 21,sep=' ', usecols=range(1,5), dtype=float )\n",
    "\n",
    "pa_data = potential_array_df.to_numpy()"
   ]
  },
  {
   "cell_type": "markdown",
   "metadata": {},
   "source": [
    "prep pa meta data"
   ]
  },
  {
   "cell_type": "code",
   "execution_count": 4,
   "metadata": {},
   "outputs": [],
   "source": [
    "counter = 0 \n",
    "#store potential_array_meta as a dictionary\n",
    "potential_array_meta_dict = {} #initializing a dictionary\n",
    "with open('test5.patxt', 'r') as f:\n",
    " for potential_array_meta in f:\n",
    "        # look at line in loop\n",
    "        if counter >2: \n",
    "           meta_list = potential_array_meta.strip().split (' ') #splits each line using space as a delimeter\n",
    "           potential_array_meta_dict [meta_list[0]] = meta_list[1] # assigning values and putting it in the dictionary, each new line starts from 0\n",
    "           #print (meta_list)\n",
    "        if counter >17:\n",
    "            break\n",
    "        counter = counter +1"
   ]
  },
  {
   "cell_type": "code",
   "execution_count": 5,
   "metadata": {},
   "outputs": [
    {
     "data": {
      "text/plain": [
       "{'mode': '-2',\n",
       " 'symmetry': 'cylindrical',\n",
       " 'max_voltage': '200000',\n",
       " 'nx': '914',\n",
       " 'ny': '381',\n",
       " 'nz': '1',\n",
       " 'mirror_x': '0',\n",
       " 'mirror_y': '1',\n",
       " 'mirror_z': '0',\n",
       " 'field_type': 'electrostatic',\n",
       " 'ng': '100',\n",
       " 'dx_mm': '1',\n",
       " 'dy_mm': '0.1',\n",
       " 'dz_mm': '0.1',\n",
       " 'fast_adjustable': '0',\n",
       " 'data_format': 'x'}"
      ]
     },
     "execution_count": 5,
     "metadata": {},
     "output_type": "execute_result"
    }
   ],
   "source": [
    "potential_array_meta_dict"
   ]
  },
  {
   "cell_type": "markdown",
   "metadata": {},
   "source": [
    "2)"
   ]
  },
  {
   "cell_type": "code",
   "execution_count": 6,
   "metadata": {},
   "outputs": [],
   "source": [
    "Example_SULI_solution_hf =h5py.File ('example_solution', mode='w')"
   ]
  },
  {
   "cell_type": "code",
   "execution_count": 7,
   "metadata": {},
   "outputs": [
    {
     "data": {
      "text/plain": [
       "<KeysViewHDF5 []>"
      ]
     },
     "execution_count": 7,
     "metadata": {},
     "output_type": "execute_result"
    }
   ],
   "source": [
    "Example_SULI_solution_hf.keys()"
   ]
  },
  {
   "cell_type": "markdown",
   "metadata": {},
   "source": [
    "3)"
   ]
  },
  {
   "cell_type": "code",
   "execution_count": 8,
   "metadata": {},
   "outputs": [],
   "source": [
    "sol_1 = Example_SULI_solution_hf.create_group ('Solution 1')"
   ]
  },
  {
   "cell_type": "markdown",
   "metadata": {},
   "source": [
    "4)"
   ]
  },
  {
   "cell_type": "code",
   "execution_count": 9,
   "metadata": {},
   "outputs": [
    {
     "data": {
      "text/plain": [
       "<HDF5 dataset \"potential_arrays\": shape (348235, 4), type \"<f8\">"
      ]
     },
     "execution_count": 9,
     "metadata": {},
     "output_type": "execute_result"
    }
   ],
   "source": [
    "sol_1.create_dataset ('trajectories', data= traj_data)\n",
    "sol_1.create_dataset('potential_arrays', data = pa_data)"
   ]
  },
  {
   "cell_type": "code",
   "execution_count": 10,
   "metadata": {},
   "outputs": [
    {
     "data": {
      "text/plain": [
       "<KeysViewHDF5 ['potential_arrays', 'trajectories']>"
      ]
     },
     "execution_count": 10,
     "metadata": {},
     "output_type": "execute_result"
    }
   ],
   "source": [
    "sol_1.keys()"
   ]
  },
  {
   "cell_type": "markdown",
   "metadata": {},
   "source": [
    "5)"
   ]
  },
  {
   "cell_type": "code",
   "execution_count": 13,
   "metadata": {},
   "outputs": [],
   "source": [
    "for [k,v] in potential_array_meta_dict.items():\n",
    "    sol_1.attrs[k]=v    "
   ]
  },
  {
   "cell_type": "code",
   "execution_count": 16,
   "metadata": {},
   "outputs": [
    {
     "data": {
      "text/plain": [
       "<KeysViewHDF5 ['data_format', 'dx_mm', 'dy_mm', 'dz_mm', 'fast_adjustable', 'field_type', 'max_voltage', 'mirror_x', 'mirror_y', 'mirror_z', 'mode', 'ng', 'nx', 'ny', 'nz', 'symmetry']>"
      ]
     },
     "execution_count": 16,
     "metadata": {},
     "output_type": "execute_result"
    }
   ],
   "source": [
    "sol_1.attrs.keys()"
   ]
  },
  {
   "cell_type": "code",
   "execution_count": 17,
   "metadata": {},
   "outputs": [
    {
     "data": {
      "text/plain": [
       "<KeysViewHDF5 ['Solution 1']>"
      ]
     },
     "execution_count": 17,
     "metadata": {},
     "output_type": "execute_result"
    }
   ],
   "source": [
    "Example_SULI_solution_hf.keys()"
   ]
  },
  {
   "cell_type": "markdown",
   "metadata": {},
   "source": [
    "6)"
   ]
  },
  {
   "cell_type": "code",
   "execution_count": 18,
   "metadata": {},
   "outputs": [],
   "source": [
    "Example_SULI_solution_hf.close()"
   ]
  },
  {
   "cell_type": "code",
   "execution_count": null,
   "metadata": {},
   "outputs": [],
   "source": []
  }
 ],
 "metadata": {
  "kernelspec": {
   "display_name": "Python 3",
   "language": "python",
   "name": "python3"
  },
  "language_info": {
   "codemirror_mode": {
    "name": "ipython",
    "version": 3
   },
   "file_extension": ".py",
   "mimetype": "text/x-python",
   "name": "python",
   "nbconvert_exporter": "python",
   "pygments_lexer": "ipython3",
   "version": "3.11.8"
  }
 },
 "nbformat": 4,
 "nbformat_minor": 2
}
